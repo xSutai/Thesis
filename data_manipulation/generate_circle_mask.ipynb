{
 "cells": [
  {
   "cell_type": "code",
   "execution_count": 6,
   "id": "0df00a14",
   "metadata": {},
   "outputs": [],
   "source": [
    "import cv2\n",
    "import numpy as np\n",
    "import os\n",
    "\n",
    "# Portions of this code were generated with the assistance of ChatGPT (OpenAI, 2025) and subsequently modified by the author.\n",
    "# OpenAI. (2025). ChatGPT (May 2025 version) [Large language model]. https://chat.openai.com\n",
    "\n",
    "testDirImage = \"D:/Thesis/datasets/BrG_test_data/all_im/\"  # Directory containing the images\n",
    "\n",
    "# Load the image\n",
    "for path in os.listdir(testDirImage):\n",
    "    if path.endswith('.png'):\n",
    "        image = cv2.imread(testDirImage+path)  # Replace with your filename\n",
    "\n",
    "        # Create a mask where non-black pixels are 255 and black pixels are 0\n",
    "        # A pixel is black if all channels (BGR) are 0\n",
    "        mask = cv2.cvtColor(image, cv2.COLOR_BGR2GRAY)  # Convert to grayscale\n",
    "        _, binary_mask = cv2.threshold(mask, 10, 255, cv2.THRESH_BINARY)\n",
    "\n",
    "        # Save the mask\n",
    "        cv2.imwrite(\"D:/Thesis/datasets/BrG_test_data/circle_mask/\"+path, binary_mask)"
   ]
  }
 ],
 "metadata": {
  "kernelspec": {
   "display_name": "Python [conda env:base] *",
   "language": "python",
   "name": "conda-base-py"
  }
 },
 "nbformat": 4,
 "nbformat_minor": 5
}
